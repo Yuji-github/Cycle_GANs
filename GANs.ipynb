{
  "nbformat": 4,
  "nbformat_minor": 0,
  "metadata": {
    "colab": {
      "name": "GANs.ipynb",
      "provenance": [],
      "authorship_tag": "ABX9TyOjAfqkjvWxYOvbpyIDhtlw",
      "include_colab_link": true
    },
    "kernelspec": {
      "name": "python3",
      "display_name": "Python 3"
    },
    "language_info": {
      "name": "python"
    },
    "accelerator": "GPU"
  },
  "cells": [
    {
      "cell_type": "markdown",
      "metadata": {
        "id": "view-in-github",
        "colab_type": "text"
      },
      "source": [
        "<a href=\"https://colab.research.google.com/github/Yuji-github/Cycle_GANs/blob/main/GANs.ipynb\" target=\"_parent\"><img src=\"https://colab.research.google.com/assets/colab-badge.svg\" alt=\"Open In Colab\"/></a>"
      ]
    },
    {
      "cell_type": "markdown",
      "metadata": {
        "id": "zfb4yKQUqXoF"
      },
      "source": [
        "**To allow to access Google Drive**"
      ]
    },
    {
      "cell_type": "code",
      "metadata": {
        "colab": {
          "base_uri": "https://localhost:8080/"
        },
        "id": "Nsb4Oay64DcJ",
        "outputId": "c5a6cac8-2702-479c-fae8-4f08af73b972"
      },
      "source": [
        "from google.colab import drive\n",
        "drive.mount('/content/drive')"
      ],
      "execution_count": null,
      "outputs": [
        {
          "output_type": "stream",
          "text": [
            "Mounted at /content/drive\n"
          ],
          "name": "stdout"
        }
      ]
    },
    {
      "cell_type": "markdown",
      "metadata": {
        "id": "A-QtTV7yqevb"
      },
      "source": [
        "**Download Cycle_GANs in your drive**"
      ]
    },
    {
      "cell_type": "code",
      "metadata": {
        "id": "0IBixBJk6D0c"
      },
      "source": [
        "!git clone \"https://github.com/junyanz/pytorch-CycleGAN-and-pix2pix\" '/content/drive/MyDrive/Cycle_GANs/CGANs'"
      ],
      "execution_count": null,
      "outputs": []
    },
    {
      "cell_type": "markdown",
      "metadata": {
        "id": "imTBi-B2qmcx"
      },
      "source": [
        "**Changing Location**"
      ]
    },
    {
      "cell_type": "code",
      "metadata": {
        "colab": {
          "base_uri": "https://localhost:8080/"
        },
        "id": "DbVeUfsl-LFM",
        "outputId": "cd433844-6c5e-43c4-adeb-395a6c5ac6da"
      },
      "source": [
        "%cd /content/drive/MyDrive/Cycle_GANs/CGANs"
      ],
      "execution_count": null,
      "outputs": [
        {
          "output_type": "stream",
          "text": [
            "/content/drive/MyDrive/Cycle_GANs/CGANs\n"
          ],
          "name": "stdout"
        }
      ]
    },
    {
      "cell_type": "markdown",
      "metadata": {
        "id": "E6fHNo73qqED"
      },
      "source": [
        "**Importing All libraries that are for GANs**"
      ]
    },
    {
      "cell_type": "code",
      "metadata": {
        "id": "jR7ed6InqB3j"
      },
      "source": [
        "pip install -r requirements.txt"
      ],
      "execution_count": null,
      "outputs": []
    },
    {
      "cell_type": "markdown",
      "metadata": {
        "id": "vpf2YNhFqxdq"
      },
      "source": [
        "**Importing datasets**"
      ]
    },
    {
      "cell_type": "code",
      "metadata": {
        "id": "gEI5jIojfYtK"
      },
      "source": [
        "! bash datasets/download_cyclegan_dataset.sh maps"
      ],
      "execution_count": null,
      "outputs": []
    },
    {
      "cell_type": "markdown",
      "metadata": {
        "id": "uzqBS-yrq6nr"
      },
      "source": [
        "**Training Datasets**"
      ]
    },
    {
      "cell_type": "code",
      "metadata": {
        "colab": {
          "base_uri": "https://localhost:8080/"
        },
        "id": "u3yai2S0dw26",
        "outputId": "9a4bfaa6-1cb8-466f-98f0-f7b1e35a80d9"
      },
      "source": [
        "!#!./scripts/train_cyclegan.sh\n",
        "!python train.py --dataroot ./datasets/maps --name maps_cyclegan --model cycle_gan"
      ],
      "execution_count": null,
      "outputs": [
        {
          "output_type": "stream",
          "text": [
            "----------------- Options ---------------\n",
            "               batch_size: 1                             \n",
            "                    beta1: 0.5                           \n",
            "          checkpoints_dir: ./checkpoints                 \n",
            "           continue_train: False                         \n",
            "                crop_size: 256                           \n",
            "                 dataroot: ./datasets/maps               \t[default: None]\n",
            "             dataset_mode: unaligned                     \n",
            "                direction: AtoB                          \n",
            "              display_env: main                          \n",
            "             display_freq: 400                           \n",
            "               display_id: 1                             \n",
            "            display_ncols: 4                             \n",
            "             display_port: 8097                          \n",
            "           display_server: http://localhost              \n",
            "          display_winsize: 256                           \n",
            "                    epoch: latest                        \n",
            "              epoch_count: 1                             \n",
            "                 gan_mode: lsgan                         \n",
            "                  gpu_ids: 0                             \n",
            "                init_gain: 0.02                          \n",
            "                init_type: normal                        \n",
            "                 input_nc: 3                             \n",
            "                  isTrain: True                          \t[default: None]\n",
            "                 lambda_A: 10.0                          \n",
            "                 lambda_B: 10.0                          \n",
            "          lambda_identity: 0.5                           \n",
            "                load_iter: 0                             \t[default: 0]\n",
            "                load_size: 286                           \n",
            "                       lr: 0.0002                        \n",
            "           lr_decay_iters: 50                            \n",
            "                lr_policy: linear                        \n",
            "         max_dataset_size: inf                           \n",
            "                    model: cycle_gan                     \n",
            "                 n_epochs: 100                           \n",
            "           n_epochs_decay: 100                           \n",
            "               n_layers_D: 3                             \n",
            "                     name: maps_cyclegan                 \t[default: experiment_name]\n",
            "                      ndf: 64                            \n",
            "                     netD: basic                         \n",
            "                     netG: resnet_9blocks                \n",
            "                      ngf: 64                            \n",
            "               no_dropout: True                          \n",
            "                  no_flip: False                         \n",
            "                  no_html: False                         \n",
            "                     norm: instance                      \n",
            "              num_threads: 4                             \n",
            "                output_nc: 3                             \n",
            "                    phase: train                         \n",
            "                pool_size: 50                            \n",
            "               preprocess: resize_and_crop               \n",
            "               print_freq: 100                           \n",
            "             save_by_iter: False                         \n",
            "          save_epoch_freq: 5                             \n",
            "         save_latest_freq: 5000                          \n",
            "           serial_batches: False                         \n",
            "                   suffix:                               \n",
            "         update_html_freq: 1000                          \n",
            "                  verbose: False                         \n",
            "----------------- End -------------------\n",
            "/usr/local/lib/python3.7/dist-packages/torchvision/transforms/transforms.py:281: UserWarning: Argument interpolation should be of type InterpolationMode instead of int. Please, use InterpolationMode enum.\n",
            "  \"Argument interpolation should be of type InterpolationMode instead of int. \"\n",
            "dataset [UnalignedDataset] was created\n",
            "/usr/local/lib/python3.7/dist-packages/torch/utils/data/dataloader.py:481: UserWarning: This DataLoader will create 4 worker processes in total. Our suggested max number of worker in current system is 2, which is smaller than what this DataLoader is going to create. Please be aware that excessive worker creation might get DataLoader running slow or even freeze, lower the worker number to avoid potential slowness/freeze if necessary.\n",
            "  cpuset_checked))\n",
            "The number of training images = 1096\n",
            "initialize network with normal\n",
            "initialize network with normal\n",
            "initialize network with normal\n",
            "initialize network with normal\n",
            "model [CycleGANModel] was created\n",
            "---------- Networks initialized -------------\n",
            "[Network G_A] Total number of parameters : 11.378 M\n",
            "[Network G_B] Total number of parameters : 11.378 M\n",
            "[Network D_A] Total number of parameters : 2.765 M\n",
            "[Network D_B] Total number of parameters : 2.765 M\n",
            "-----------------------------------------------\n",
            "Setting up a new session...\n",
            "Exception in user code:\n",
            "------------------------------------------------------------\n",
            "Traceback (most recent call last):\n",
            "  File \"/usr/local/lib/python3.7/dist-packages/urllib3/connection.py\", line 159, in _new_conn\n",
            "    (self._dns_host, self.port), self.timeout, **extra_kw)\n",
            "  File \"/usr/local/lib/python3.7/dist-packages/urllib3/util/connection.py\", line 80, in create_connection\n",
            "    raise err\n",
            "  File \"/usr/local/lib/python3.7/dist-packages/urllib3/util/connection.py\", line 70, in create_connection\n",
            "    sock.connect(sa)\n",
            "ConnectionRefusedError: [Errno 111] Connection refused\n",
            "\n",
            "During handling of the above exception, another exception occurred:\n",
            "\n",
            "Traceback (most recent call last):\n",
            "  File \"/usr/local/lib/python3.7/dist-packages/urllib3/connectionpool.py\", line 600, in urlopen\n",
            "    chunked=chunked)\n",
            "  File \"/usr/local/lib/python3.7/dist-packages/urllib3/connectionpool.py\", line 354, in _make_request\n",
            "    conn.request(method, url, **httplib_request_kw)\n",
            "  File \"/usr/lib/python3.7/http/client.py\", line 1277, in request\n",
            "    self._send_request(method, url, body, headers, encode_chunked)\n",
            "  File \"/usr/lib/python3.7/http/client.py\", line 1323, in _send_request\n",
            "    self.endheaders(body, encode_chunked=encode_chunked)\n",
            "  File \"/usr/lib/python3.7/http/client.py\", line 1272, in endheaders\n",
            "    self._send_output(message_body, encode_chunked=encode_chunked)\n",
            "  File \"/usr/lib/python3.7/http/client.py\", line 1032, in _send_output\n",
            "    self.send(msg)\n",
            "  File \"/usr/lib/python3.7/http/client.py\", line 972, in send\n",
            "    self.connect()\n",
            "  File \"/usr/local/lib/python3.7/dist-packages/urllib3/connection.py\", line 181, in connect\n",
            "    conn = self._new_conn()\n",
            "  File \"/usr/local/lib/python3.7/dist-packages/urllib3/connection.py\", line 168, in _new_conn\n",
            "    self, \"Failed to establish a new connection: %s\" % e)\n",
            "urllib3.exceptions.NewConnectionError: <urllib3.connection.HTTPConnection object at 0x7fcf0bf5edd0>: Failed to establish a new connection: [Errno 111] Connection refused\n",
            "\n",
            "During handling of the above exception, another exception occurred:\n",
            "\n",
            "Traceback (most recent call last):\n",
            "  File \"/usr/local/lib/python3.7/dist-packages/requests/adapters.py\", line 449, in send\n",
            "    timeout=timeout\n",
            "  File \"/usr/local/lib/python3.7/dist-packages/urllib3/connectionpool.py\", line 638, in urlopen\n",
            "    _stacktrace=sys.exc_info()[2])\n",
            "  File \"/usr/local/lib/python3.7/dist-packages/urllib3/util/retry.py\", line 399, in increment\n",
            "    raise MaxRetryError(_pool, url, error or ResponseError(cause))\n",
            "urllib3.exceptions.MaxRetryError: HTTPConnectionPool(host='localhost', port=8097): Max retries exceeded with url: /env/main (Caused by NewConnectionError('<urllib3.connection.HTTPConnection object at 0x7fcf0bf5edd0>: Failed to establish a new connection: [Errno 111] Connection refused'))\n",
            "\n",
            "During handling of the above exception, another exception occurred:\n",
            "\n",
            "Traceback (most recent call last):\n",
            "  File \"/usr/local/lib/python3.7/dist-packages/visdom/__init__.py\", line 711, in _send\n",
            "    data=json.dumps(msg),\n",
            "  File \"/usr/local/lib/python3.7/dist-packages/visdom/__init__.py\", line 677, in _handle_post\n",
            "    r = self.session.post(url, data=data)\n",
            "  File \"/usr/local/lib/python3.7/dist-packages/requests/sessions.py\", line 578, in post\n",
            "    return self.request('POST', url, data=data, json=json, **kwargs)\n",
            "  File \"/usr/local/lib/python3.7/dist-packages/requests/sessions.py\", line 530, in request\n",
            "    resp = self.send(prep, **send_kwargs)\n",
            "  File \"/usr/local/lib/python3.7/dist-packages/requests/sessions.py\", line 643, in send\n",
            "    r = adapter.send(request, **kwargs)\n",
            "  File \"/usr/local/lib/python3.7/dist-packages/requests/adapters.py\", line 516, in send\n",
            "    raise ConnectionError(e, request=request)\n",
            "requests.exceptions.ConnectionError: HTTPConnectionPool(host='localhost', port=8097): Max retries exceeded with url: /env/main (Caused by NewConnectionError('<urllib3.connection.HTTPConnection object at 0x7fcf0bf5edd0>: Failed to establish a new connection: [Errno 111] Connection refused'))\n",
            "[Errno 99] Cannot assign requested address\n",
            "[Errno 99] Cannot assign requested address\n",
            "[Errno 99] Cannot assign requested address\n",
            "Visdom python client failed to establish socket to get messages from the server. This feature is optional and can be disabled by initializing Visdom with `use_incoming_socket=False`, which will prevent waiting for this request to timeout.\n",
            "\n",
            "\n",
            "Could not connect to Visdom server. \n",
            " Trying to start a server....\n",
            "Command: /usr/bin/python3 -m visdom.server -p 8097 &>/dev/null &\n",
            "create web directory ./checkpoints/maps_cyclegan/web...\n",
            "/usr/local/lib/python3.7/dist-packages/torch/optim/lr_scheduler.py:134: UserWarning: Detected call of `lr_scheduler.step()` before `optimizer.step()`. In PyTorch 1.1.0 and later, you should call them in the opposite order: `optimizer.step()` before `lr_scheduler.step()`.  Failure to do this will result in PyTorch skipping the first value of the learning rate schedule. See more details at https://pytorch.org/docs/stable/optim.html#how-to-adjust-learning-rate\n",
            "  \"https://pytorch.org/docs/stable/optim.html#how-to-adjust-learning-rate\", UserWarning)\n",
            "learning rate 0.0002000 -> 0.0002000\n",
            "/usr/local/lib/python3.7/dist-packages/torch/utils/data/dataloader.py:481: UserWarning: This DataLoader will create 4 worker processes in total. Our suggested max number of worker in current system is 2, which is smaller than what this DataLoader is going to create. Please be aware that excessive worker creation might get DataLoader running slow or even freeze, lower the worker number to avoid potential slowness/freeze if necessary.\n",
            "  cpuset_checked))\n",
            "[Errno 99] Cannot assign requested address\n",
            "(epoch: 1, iters: 100, time: 1.365, data: 1.693) D_A: 0.264 G_A: 0.378 cycle_A: 1.889 idt_A: 0.419 D_B: 1.420 G_B: 1.330 cycle_B: 0.802 idt_B: 1.171 \n",
            "(epoch: 1, iters: 200, time: 1.366, data: 0.002) D_A: 0.251 G_A: 0.408 cycle_A: 2.084 idt_A: 0.901 D_B: 0.365 G_B: 0.235 cycle_B: 1.203 idt_B: 1.041 \n",
            "(epoch: 1, iters: 300, time: 1.364, data: 0.002) D_A: 0.284 G_A: 0.288 cycle_A: 1.192 idt_A: 0.346 D_B: 0.324 G_B: 0.360 cycle_B: 0.625 idt_B: 0.596 \n",
            "(epoch: 1, iters: 400, time: 1.799, data: 0.002) D_A: 0.231 G_A: 0.310 cycle_A: 1.969 idt_A: 0.417 D_B: 0.241 G_B: 0.264 cycle_B: 0.873 idt_B: 1.003 \n",
            "(epoch: 1, iters: 500, time: 1.366, data: 0.002) D_A: 0.234 G_A: 0.252 cycle_A: 1.765 idt_A: 1.485 D_B: 0.286 G_B: 0.166 cycle_B: 3.128 idt_B: 0.826 \n",
            "(epoch: 1, iters: 600, time: 1.361, data: 0.002) D_A: 0.241 G_A: 0.460 cycle_A: 1.679 idt_A: 0.571 D_B: 0.256 G_B: 0.320 cycle_B: 1.438 idt_B: 0.845 \n",
            "(epoch: 1, iters: 700, time: 1.364, data: 0.002) D_A: 0.153 G_A: 0.366 cycle_A: 1.148 idt_A: 0.258 D_B: 0.299 G_B: 0.199 cycle_B: 0.577 idt_B: 0.510 \n",
            "(epoch: 1, iters: 800, time: 1.575, data: 0.002) D_A: 0.267 G_A: 0.248 cycle_A: 1.343 idt_A: 0.246 D_B: 0.505 G_B: 0.678 cycle_B: 0.457 idt_B: 0.654 \n",
            "(epoch: 1, iters: 900, time: 1.363, data: 0.004) D_A: 0.254 G_A: 0.298 cycle_A: 1.645 idt_A: 0.187 D_B: 0.268 G_B: 0.452 cycle_B: 0.397 idt_B: 0.631 \n",
            "(epoch: 1, iters: 1000, time: 1.364, data: 0.003) D_A: 0.215 G_A: 0.312 cycle_A: 1.698 idt_A: 0.519 D_B: 0.369 G_B: 0.076 cycle_B: 1.241 idt_B: 0.744 \n",
            "End of epoch 1 / 200 \t Time Taken: 1405 sec\n",
            "learning rate 0.0002000 -> 0.0002000\n",
            "(epoch: 2, iters: 4, time: 1.353, data: 0.002) D_A: 0.093 G_A: 0.369 cycle_A: 1.309 idt_A: 0.569 D_B: 0.262 G_B: 0.957 cycle_B: 1.194 idt_B: 0.603 \n",
            "(epoch: 2, iters: 104, time: 1.787, data: 0.004) D_A: 0.249 G_A: 0.400 cycle_A: 2.030 idt_A: 0.358 D_B: 0.260 G_B: 0.450 cycle_B: 0.834 idt_B: 1.027 \n",
            "(epoch: 2, iters: 204, time: 1.373, data: 0.002) D_A: 0.276 G_A: 0.713 cycle_A: 0.948 idt_A: 0.204 D_B: 0.266 G_B: 0.287 cycle_B: 0.375 idt_B: 0.505 \n",
            "(epoch: 2, iters: 304, time: 1.373, data: 0.002) D_A: 0.294 G_A: 0.199 cycle_A: 1.042 idt_A: 0.382 D_B: 0.340 G_B: 0.245 cycle_B: 0.750 idt_B: 0.407 \n",
            "(epoch: 2, iters: 404, time: 1.365, data: 0.002) D_A: 0.311 G_A: 0.553 cycle_A: 2.291 idt_A: 0.329 D_B: 0.235 G_B: 0.629 cycle_B: 0.877 idt_B: 1.305 \n",
            "(epoch: 2, iters: 504, time: 1.539, data: 0.003) D_A: 0.229 G_A: 0.353 cycle_A: 0.998 idt_A: 0.387 D_B: 0.327 G_B: 0.526 cycle_B: 0.832 idt_B: 0.510 \n",
            "(epoch: 2, iters: 604, time: 1.375, data: 0.002) D_A: 0.200 G_A: 0.298 cycle_A: 0.973 idt_A: 0.178 D_B: 0.342 G_B: 0.439 cycle_B: 0.377 idt_B: 0.416 \n",
            "(epoch: 2, iters: 704, time: 1.367, data: 0.002) D_A: 0.117 G_A: 0.350 cycle_A: 1.312 idt_A: 0.810 D_B: 0.156 G_B: 0.187 cycle_B: 1.511 idt_B: 0.685 \n",
            "(epoch: 2, iters: 804, time: 1.364, data: 0.002) D_A: 0.105 G_A: 0.329 cycle_A: 0.889 idt_A: 0.985 D_B: 0.457 G_B: 0.084 cycle_B: 1.492 idt_B: 0.351 \n",
            "(epoch: 2, iters: 904, time: 1.809, data: 0.002) D_A: 0.130 G_A: 0.435 cycle_A: 1.188 idt_A: 0.377 D_B: 0.267 G_B: 0.182 cycle_B: 0.709 idt_B: 0.509 \n",
            "(epoch: 2, iters: 1004, time: 1.370, data: 0.003) D_A: 0.081 G_A: 0.733 cycle_A: 1.294 idt_A: 0.214 D_B: 0.134 G_B: 0.254 cycle_B: 0.495 idt_B: 0.603 \n",
            "End of epoch 2 / 200 \t Time Taken: 1410 sec\n",
            "learning rate 0.0002000 -> 0.0002000\n",
            "(epoch: 3, iters: 8, time: 1.370, data: 0.002) D_A: 0.306 G_A: 0.353 cycle_A: 0.765 idt_A: 0.244 D_B: 0.324 G_B: 0.089 cycle_B: 0.572 idt_B: 0.364 \n",
            "(epoch: 3, iters: 108, time: 1.348, data: 0.002) D_A: 0.278 G_A: 0.333 cycle_A: 0.867 idt_A: 0.207 D_B: 0.192 G_B: 0.450 cycle_B: 0.409 idt_B: 0.456 \n",
            "(epoch: 3, iters: 208, time: 1.853, data: 0.002) D_A: 0.170 G_A: 0.262 cycle_A: 0.969 idt_A: 0.209 D_B: 0.188 G_B: 0.142 cycle_B: 0.454 idt_B: 0.404 \n",
            "(epoch: 3, iters: 308, time: 1.359, data: 0.003) D_A: 0.180 G_A: 0.889 cycle_A: 1.731 idt_A: 0.347 D_B: 0.122 G_B: 0.699 cycle_B: 1.596 idt_B: 0.774 \n",
            "(epoch: 3, iters: 408, time: 1.364, data: 0.002) D_A: 0.076 G_A: 0.394 cycle_A: 1.042 idt_A: 0.207 D_B: 0.157 G_B: 0.291 cycle_B: 0.405 idt_B: 0.456 \n",
            "(epoch: 3, iters: 508, time: 1.363, data: 0.002) D_A: 0.123 G_A: 0.262 cycle_A: 0.860 idt_A: 0.720 D_B: 0.326 G_B: 0.221 cycle_B: 1.410 idt_B: 0.341 \n",
            "(epoch: 3, iters: 608, time: 1.553, data: 0.002) D_A: 0.121 G_A: 0.382 cycle_A: 1.444 idt_A: 0.293 D_B: 0.118 G_B: 0.433 cycle_B: 0.796 idt_B: 0.654 \n",
            "(epoch: 3, iters: 708, time: 1.367, data: 0.002) D_A: 0.299 G_A: 1.206 cycle_A: 1.889 idt_A: 0.343 D_B: 0.166 G_B: 0.345 cycle_B: 0.727 idt_B: 0.641 \n",
            "(epoch: 3, iters: 808, time: 1.361, data: 0.002) D_A: 0.277 G_A: 0.276 cycle_A: 1.155 idt_A: 0.241 D_B: 0.424 G_B: 0.308 cycle_B: 0.670 idt_B: 0.567 \n",
            "(epoch: 3, iters: 908, time: 1.363, data: 0.002) D_A: 0.170 G_A: 0.881 cycle_A: 1.253 idt_A: 0.380 D_B: 0.373 G_B: 0.376 cycle_B: 0.838 idt_B: 0.545 \n",
            "(epoch: 3, iters: 1008, time: 1.574, data: 0.002) D_A: 0.145 G_A: 0.512 cycle_A: 1.875 idt_A: 0.209 D_B: 0.193 G_B: 0.353 cycle_B: 0.351 idt_B: 1.103 \n",
            "End of epoch 3 / 200 \t Time Taken: 1402 sec\n",
            "learning rate 0.0002000 -> 0.0002000\n",
            "(epoch: 4, iters: 12, time: 1.362, data: 0.002) D_A: 0.212 G_A: 0.336 cycle_A: 1.087 idt_A: 0.481 D_B: 0.298 G_B: 0.305 cycle_B: 1.082 idt_B: 0.487 \n",
            "(epoch: 4, iters: 112, time: 1.359, data: 0.002) D_A: 0.088 G_A: 0.336 cycle_A: 1.636 idt_A: 0.449 D_B: 0.253 G_B: 0.348 cycle_B: 0.996 idt_B: 0.609 \n",
            "(epoch: 4, iters: 212, time: 1.366, data: 0.002) D_A: 0.221 G_A: 0.167 cycle_A: 1.034 idt_A: 0.303 D_B: 0.195 G_B: 0.075 cycle_B: 0.874 idt_B: 0.556 \n",
            "(epoch: 4, iters: 312, time: 1.827, data: 0.002) D_A: 0.107 G_A: 0.386 cycle_A: 1.311 idt_A: 0.558 D_B: 0.176 G_B: 0.149 cycle_B: 1.126 idt_B: 0.579 \n",
            "(epoch: 4, iters: 412, time: 1.358, data: 0.002) D_A: 0.158 G_A: 0.242 cycle_A: 1.028 idt_A: 0.187 D_B: 0.277 G_B: 0.362 cycle_B: 0.380 idt_B: 0.479 \n",
            "(epoch: 4, iters: 512, time: 1.368, data: 0.002) D_A: 0.124 G_A: 0.467 cycle_A: 1.645 idt_A: 0.349 D_B: 0.165 G_B: 0.824 cycle_B: 0.659 idt_B: 1.066 \n",
            "(epoch: 4, iters: 612, time: 1.371, data: 0.002) D_A: 0.170 G_A: 0.241 cycle_A: 1.151 idt_A: 0.185 D_B: 0.213 G_B: 0.344 cycle_B: 0.436 idt_B: 0.363 \n",
            "(epoch: 4, iters: 712, time: 1.611, data: 0.002) D_A: 0.039 G_A: 0.518 cycle_A: 1.316 idt_A: 3.024 D_B: 0.244 G_B: 0.892 cycle_B: 6.048 idt_B: 0.593 \n",
            "(epoch: 4, iters: 812, time: 1.357, data: 0.002) D_A: 0.122 G_A: 0.700 cycle_A: 0.878 idt_A: 0.236 D_B: 0.132 G_B: 1.290 cycle_B: 0.663 idt_B: 0.455 \n",
            "(epoch: 4, iters: 912, time: 1.352, data: 0.003) D_A: 0.022 G_A: 0.680 cycle_A: 0.807 idt_A: 0.233 D_B: 0.073 G_B: 0.646 cycle_B: 0.454 idt_B: 0.378 \n",
            "(epoch: 4, iters: 1012, time: 1.364, data: 0.003) D_A: 0.324 G_A: 0.840 cycle_A: 1.427 idt_A: 0.238 D_B: 0.355 G_B: 0.047 cycle_B: 0.508 idt_B: 0.590 \n",
            "End of epoch 4 / 200 \t Time Taken: 1402 sec\n",
            "learning rate 0.0002000 -> 0.0002000\n",
            "(epoch: 5, iters: 16, time: 1.860, data: 0.002) D_A: 0.116 G_A: 0.878 cycle_A: 1.003 idt_A: 0.185 D_B: 0.252 G_B: 0.160 cycle_B: 0.414 idt_B: 0.419 \n",
            "(epoch: 5, iters: 116, time: 1.361, data: 0.002) D_A: 0.203 G_A: 0.503 cycle_A: 2.364 idt_A: 0.703 D_B: 0.257 G_B: 0.326 cycle_B: 1.729 idt_B: 1.295 \n",
            "(epoch: 5, iters: 216, time: 1.345, data: 0.002) D_A: 0.182 G_A: 0.280 cycle_A: 1.412 idt_A: 0.188 D_B: 0.248 G_B: 0.696 cycle_B: 0.620 idt_B: 0.599 \n",
            "(epoch: 5, iters: 316, time: 1.370, data: 0.002) D_A: 0.104 G_A: 0.370 cycle_A: 1.391 idt_A: 0.198 D_B: 0.156 G_B: 0.288 cycle_B: 0.458 idt_B: 0.664 \n",
            "(epoch: 5, iters: 416, time: 1.568, data: 0.002) D_A: 0.533 G_A: 0.228 cycle_A: 0.922 idt_A: 0.455 D_B: 0.280 G_B: 0.279 cycle_B: 0.992 idt_B: 0.396 \n",
            "(epoch: 5, iters: 516, time: 1.323, data: 0.002) D_A: 0.131 G_A: 0.348 cycle_A: 1.141 idt_A: 2.933 D_B: 0.233 G_B: 1.243 cycle_B: 5.867 idt_B: 0.409 \n",
            "(epoch: 5, iters: 616, time: 1.359, data: 0.002) D_A: 0.174 G_A: 0.466 cycle_A: 0.605 idt_A: 0.910 D_B: 0.096 G_B: 0.187 cycle_B: 1.817 idt_B: 0.279 \n",
            "saving the latest model (epoch 5, total_iters 5000)\n",
            "(epoch: 5, iters: 716, time: 1.359, data: 0.013) D_A: 0.339 G_A: 0.612 cycle_A: 0.786 idt_A: 0.276 D_B: 0.254 G_B: 0.178 cycle_B: 0.555 idt_B: 0.298 \n",
            "(epoch: 5, iters: 816, time: 1.489, data: 0.002) D_A: 0.286 G_A: 0.171 cycle_A: 1.193 idt_A: 0.310 D_B: 0.108 G_B: 0.846 cycle_B: 0.763 idt_B: 0.563 \n",
            "(epoch: 5, iters: 916, time: 1.369, data: 0.002) D_A: 0.097 G_A: 0.442 cycle_A: 1.073 idt_A: 0.211 D_B: 0.394 G_B: 0.041 cycle_B: 0.427 idt_B: 0.515 \n",
            "(epoch: 5, iters: 1016, time: 1.350, data: 0.002) D_A: 0.114 G_A: 0.370 cycle_A: 1.618 idt_A: 0.250 D_B: 0.105 G_B: 0.465 cycle_B: 0.777 idt_B: 0.941 \n",
            "saving the model at the end of epoch 5, iters 5480\n",
            "End of epoch 5 / 200 \t Time Taken: 1405 sec\n",
            "learning rate 0.0002000 -> 0.0002000\n",
            "(epoch: 6, iters: 20, time: 1.361, data: 0.003) D_A: 0.067 G_A: 0.406 cycle_A: 1.494 idt_A: 0.790 D_B: 0.218 G_B: 0.989 cycle_B: 1.458 idt_B: 0.771 \n",
            "(epoch: 6, iters: 120, time: 1.878, data: 0.002) D_A: 0.079 G_A: 0.639 cycle_A: 1.094 idt_A: 0.231 D_B: 0.330 G_B: 0.374 cycle_B: 0.505 idt_B: 0.356 \n",
            "(epoch: 6, iters: 220, time: 1.357, data: 0.002) D_A: 0.161 G_A: 0.189 cycle_A: 0.926 idt_A: 0.210 D_B: 0.187 G_B: 0.262 cycle_B: 0.571 idt_B: 0.340 \n",
            "(epoch: 6, iters: 320, time: 1.361, data: 0.002) D_A: 0.163 G_A: 0.255 cycle_A: 0.775 idt_A: 0.420 D_B: 0.186 G_B: 0.823 cycle_B: 1.198 idt_B: 0.325 \n",
            "(epoch: 6, iters: 420, time: 1.353, data: 0.002) D_A: 0.151 G_A: 0.819 cycle_A: 0.831 idt_A: 0.222 D_B: 0.366 G_B: 0.116 cycle_B: 0.609 idt_B: 0.476 \n",
            "(epoch: 6, iters: 520, time: 1.797, data: 0.002) D_A: 0.066 G_A: 0.480 cycle_A: 1.345 idt_A: 0.242 D_B: 0.266 G_B: 0.840 cycle_B: 0.671 idt_B: 0.532 \n",
            "(epoch: 6, iters: 620, time: 1.358, data: 0.003) D_A: 0.316 G_A: 0.590 cycle_A: 0.808 idt_A: 0.228 D_B: 0.165 G_B: 0.134 cycle_B: 0.477 idt_B: 0.450 \n",
            "(epoch: 6, iters: 720, time: 1.359, data: 0.002) D_A: 0.260 G_A: 0.181 cycle_A: 1.754 idt_A: 0.123 D_B: 0.138 G_B: 0.305 cycle_B: 0.257 idt_B: 0.665 \n",
            "(epoch: 6, iters: 820, time: 1.356, data: 0.002) D_A: 0.055 G_A: 0.551 cycle_A: 1.047 idt_A: 0.175 D_B: 0.122 G_B: 0.238 cycle_B: 0.421 idt_B: 0.478 \n",
            "(epoch: 6, iters: 920, time: 1.589, data: 0.003) D_A: 0.162 G_A: 0.828 cycle_A: 0.644 idt_A: 0.266 D_B: 0.103 G_B: 0.348 cycle_B: 0.661 idt_B: 0.311 \n",
            "(epoch: 6, iters: 1020, time: 1.371, data: 0.003) D_A: 0.090 G_A: 0.396 cycle_A: 0.988 idt_A: 0.141 D_B: 0.331 G_B: 0.148 cycle_B: 0.297 idt_B: 0.465 \n",
            "End of epoch 6 / 200 \t Time Taken: 1396 sec\n",
            "learning rate 0.0002000 -> 0.0002000\n",
            "(epoch: 7, iters: 24, time: 1.359, data: 0.003) D_A: 0.168 G_A: 0.147 cycle_A: 1.026 idt_A: 0.125 D_B: 0.078 G_B: 0.144 cycle_B: 1.162 idt_B: 0.389 \n",
            "(epoch: 7, iters: 124, time: 1.361, data: 0.002) D_A: 0.106 G_A: 0.525 cycle_A: 1.075 idt_A: 0.452 D_B: 0.100 G_B: 0.973 cycle_B: 1.013 idt_B: 0.475 \n",
            "(epoch: 7, iters: 224, time: 1.930, data: 0.002) D_A: 0.112 G_A: 0.826 cycle_A: 1.255 idt_A: 0.131 D_B: 0.304 G_B: 0.087 cycle_B: 0.309 idt_B: 0.529 \n",
            "(epoch: 7, iters: 324, time: 1.355, data: 0.002) D_A: 0.108 G_A: 0.212 cycle_A: 0.756 idt_A: 0.159 D_B: 0.115 G_B: 0.457 cycle_B: 0.324 idt_B: 0.342 \n",
            "(epoch: 7, iters: 424, time: 1.363, data: 0.002) D_A: 0.107 G_A: 0.381 cycle_A: 0.943 idt_A: 0.225 D_B: 0.346 G_B: 0.128 cycle_B: 0.657 idt_B: 0.422 \n",
            "(epoch: 7, iters: 524, time: 1.360, data: 0.002) D_A: 0.201 G_A: 0.333 cycle_A: 0.998 idt_A: 0.167 D_B: 0.157 G_B: 0.304 cycle_B: 0.377 idt_B: 0.373 \n",
            "(epoch: 7, iters: 624, time: 1.592, data: 0.005) D_A: 0.190 G_A: 0.687 cycle_A: 0.569 idt_A: 0.177 D_B: 0.362 G_B: 0.121 cycle_B: 0.405 idt_B: 0.263 \n",
            "(epoch: 7, iters: 724, time: 1.348, data: 0.002) D_A: 0.070 G_A: 0.545 cycle_A: 1.269 idt_A: 0.133 D_B: 0.249 G_B: 0.919 cycle_B: 0.304 idt_B: 0.461 \n",
            "(epoch: 7, iters: 824, time: 1.374, data: 0.002) D_A: 0.093 G_A: 0.333 cycle_A: 1.248 idt_A: 0.250 D_B: 0.289 G_B: 0.839 cycle_B: 0.864 idt_B: 0.632 \n",
            "(epoch: 7, iters: 924, time: 1.364, data: 0.002) D_A: 0.143 G_A: 0.350 cycle_A: 0.952 idt_A: 0.288 D_B: 0.092 G_B: 0.391 cycle_B: 0.667 idt_B: 0.398 \n",
            "(epoch: 7, iters: 1024, time: 1.564, data: 0.003) D_A: 0.064 G_A: 0.546 cycle_A: 1.096 idt_A: 1.058 D_B: 0.222 G_B: 0.659 cycle_B: 1.747 idt_B: 0.511 \n"
          ],
          "name": "stdout"
        }
      ]
    },
    {
      "cell_type": "code",
      "metadata": {
        "colab": {
          "base_uri": "https://localhost:8080/"
        },
        "id": "EXSyLEiamL5C",
        "outputId": "12dc2439-89f2-4bd0-f328-18d6ac899f66"
      },
      "source": [
        "!./checkpoints/maps_cyclegan/web/index.html"
      ],
      "execution_count": null,
      "outputs": [
        {
          "output_type": "stream",
          "text": [
            "/bin/bash: ./checkpoints/maps_cyclegan/web/index.html: No such file or directory\n"
          ],
          "name": "stdout"
        }
      ]
    }
  ]
}